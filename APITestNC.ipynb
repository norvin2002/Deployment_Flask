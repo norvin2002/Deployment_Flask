{
 "cells": [
  {
   "cell_type": "code",
   "execution_count": 1,
   "id": "963ec861",
   "metadata": {},
   "outputs": [],
   "source": [
    "import requests\n",
    "import json\n",
    "import pandas as pd"
   ]
  },
  {
   "cell_type": "code",
   "execution_count": 2,
   "id": "2af3bf61",
   "metadata": {},
   "outputs": [
    {
     "data": {
      "text/plain": [
       "<Response [200]>"
      ]
     },
     "execution_count": 2,
     "metadata": {},
     "output_type": "execute_result"
    }
   ],
   "source": [
    "test_res = requests.get('http://127.0.0.1:5000')\n",
    "test_res"
   ]
  },
  {
   "cell_type": "code",
   "execution_count": 3,
   "id": "8861c424",
   "metadata": {},
   "outputs": [
    {
     "data": {
      "text/plain": [
       "'Hello world!'"
      ]
     },
     "execution_count": 3,
     "metadata": {},
     "output_type": "execute_result"
    }
   ],
   "source": [
    "test_res.text"
   ]
  },
  {
   "cell_type": "code",
   "execution_count": 5,
   "id": "f9ea4dc2",
   "metadata": {},
   "outputs": [
    {
     "data": {
      "text/plain": [
       "<Response [200]>"
      ]
     },
     "execution_count": 5,
     "metadata": {},
     "output_type": "execute_result"
    }
   ],
   "source": [
    "test_res = requests.get('http://127.0.0.1:5000/predict')\n",
    "test_res"
   ]
  },
  {
   "cell_type": "code",
   "execution_count": 6,
   "id": "10ce5019",
   "metadata": {},
   "outputs": [
    {
     "data": {
      "text/plain": [
       "'The API works'"
      ]
     },
     "execution_count": 6,
     "metadata": {},
     "output_type": "execute_result"
    }
   ],
   "source": [
    "test_res.text"
   ]
  },
  {
   "cell_type": "markdown",
   "id": "03da0188",
   "metadata": {},
   "source": [
    "Set the payload to be sent to the microserver"
   ]
  },
  {
   "cell_type": "code",
   "execution_count": 30,
   "id": "37d10916",
   "metadata": {},
   "outputs": [],
   "source": [
    "body = [\n",
    "    {\"school_setting\" : 0,\n",
    "     \"school_type\" :1,\n",
    "     \"teaching_method\":1,\n",
    "     \"n_student\":20,\n",
    "     \"gender\": 1,\n",
    "     \"lunch\":1,\n",
    "     \"pretest\":48.0\n",
    "    } ,\n",
    "        {\"school_setting\" : 1,\n",
    "     \"school_type\" :1,\n",
    "     \"teaching_method\":1,\n",
    "     \"n_student\":20,\n",
    "     \"gender\": 1,\n",
    "     \"lunch\":1,\n",
    "     \"pretest\":48.0\n",
    "    } ,\n",
    "        {\"school_setting\" : 0,\n",
    "     \"school_type\" :2,\n",
    "     \"teaching_method\":1,\n",
    "     \"n_student\":20,\n",
    "     \"gender\": 1,\n",
    "     \"lunch\":1,\n",
    "     \"pretest\":48.0\n",
    "    } \n",
    "]"
   ]
  },
  {
   "cell_type": "code",
   "execution_count": 31,
   "id": "cea4ebc7",
   "metadata": {},
   "outputs": [
    {
     "data": {
      "text/plain": [
       "'[{\"school_setting\": 0, \"school_type\": 1, \"teaching_method\": 1, \"n_student\": 20, \"gender\": 1, \"lunch\": 1, \"pretest\": 48.0}, {\"school_setting\": 1, \"school_type\": 1, \"teaching_method\": 1, \"n_student\": 20, \"gender\": 1, \"lunch\": 1, \"pretest\": 48.0}, {\"school_setting\": 0, \"school_type\": 2, \"teaching_method\": 1, \"n_student\": 20, \"gender\": 1, \"lunch\": 1, \"pretest\": 48.0}]'"
      ]
     },
     "execution_count": 31,
     "metadata": {},
     "output_type": "execute_result"
    }
   ],
   "source": [
    "# convert to string representation\n",
    "json.dumps(body)"
   ]
  },
  {
   "cell_type": "code",
   "execution_count": 32,
   "id": "49d07051",
   "metadata": {},
   "outputs": [
    {
     "data": {
      "text/html": [
       "<div>\n",
       "<style scoped>\n",
       "    .dataframe tbody tr th:only-of-type {\n",
       "        vertical-align: middle;\n",
       "    }\n",
       "\n",
       "    .dataframe tbody tr th {\n",
       "        vertical-align: top;\n",
       "    }\n",
       "\n",
       "    .dataframe thead th {\n",
       "        text-align: right;\n",
       "    }\n",
       "</style>\n",
       "<table border=\"1\" class=\"dataframe\">\n",
       "  <thead>\n",
       "    <tr style=\"text-align: right;\">\n",
       "      <th></th>\n",
       "      <th>school_setting</th>\n",
       "      <th>school_type</th>\n",
       "      <th>teaching_method</th>\n",
       "      <th>n_student</th>\n",
       "      <th>gender</th>\n",
       "      <th>lunch</th>\n",
       "      <th>pretest</th>\n",
       "    </tr>\n",
       "  </thead>\n",
       "  <tbody>\n",
       "    <tr>\n",
       "      <th>0</th>\n",
       "      <td>0</td>\n",
       "      <td>1</td>\n",
       "      <td>1</td>\n",
       "      <td>20</td>\n",
       "      <td>1</td>\n",
       "      <td>1</td>\n",
       "      <td>48</td>\n",
       "    </tr>\n",
       "    <tr>\n",
       "      <th>1</th>\n",
       "      <td>1</td>\n",
       "      <td>1</td>\n",
       "      <td>1</td>\n",
       "      <td>20</td>\n",
       "      <td>1</td>\n",
       "      <td>1</td>\n",
       "      <td>48</td>\n",
       "    </tr>\n",
       "    <tr>\n",
       "      <th>2</th>\n",
       "      <td>0</td>\n",
       "      <td>2</td>\n",
       "      <td>1</td>\n",
       "      <td>20</td>\n",
       "      <td>1</td>\n",
       "      <td>1</td>\n",
       "      <td>48</td>\n",
       "    </tr>\n",
       "  </tbody>\n",
       "</table>\n",
       "</div>"
      ],
      "text/plain": [
       "   school_setting  school_type  teaching_method  n_student  gender  lunch  \\\n",
       "0               0            1                1         20       1      1   \n",
       "1               1            1                1         20       1      1   \n",
       "2               0            2                1         20       1      1   \n",
       "\n",
       "   pretest  \n",
       "0       48  \n",
       "1       48  \n",
       "2       48  "
      ]
     },
     "execution_count": 32,
     "metadata": {},
     "output_type": "execute_result"
    }
   ],
   "source": [
    "# convert string json into dataframe\n",
    "pd.read_json(json.dumps(body))"
   ]
  },
  {
   "cell_type": "code",
   "execution_count": 38,
   "id": "291e1691",
   "metadata": {},
   "outputs": [
    {
     "data": {
      "text/plain": [
       "<Response [200]>"
      ]
     },
     "execution_count": 38,
     "metadata": {},
     "output_type": "execute_result"
    }
   ],
   "source": [
    "test_res = requests.get(\"http://127.0.0.1:5000/predict\",\n",
    "                       json = json.dumps(body))\n",
    "test_res"
   ]
  },
  {
   "cell_type": "code",
   "execution_count": 39,
   "id": "1c9224eb",
   "metadata": {},
   "outputs": [
    {
     "data": {
      "text/plain": [
       "{'prediction': [53.31369444444445, 56.38879761904761, 53.31369444444445]}"
      ]
     },
     "execution_count": 39,
     "metadata": {},
     "output_type": "execute_result"
    }
   ],
   "source": [
    "test_res.json()"
   ]
  },
  {
   "cell_type": "code",
   "execution_count": 43,
   "id": "b1607746",
   "metadata": {},
   "outputs": [],
   "source": [
    "test_df = pd.read_json(json.dumps(body))\n",
    "test_df['prediction'] = test_res.json()['prediction']"
   ]
  },
  {
   "cell_type": "code",
   "execution_count": 44,
   "id": "329a9d82",
   "metadata": {},
   "outputs": [
    {
     "data": {
      "text/html": [
       "<div>\n",
       "<style scoped>\n",
       "    .dataframe tbody tr th:only-of-type {\n",
       "        vertical-align: middle;\n",
       "    }\n",
       "\n",
       "    .dataframe tbody tr th {\n",
       "        vertical-align: top;\n",
       "    }\n",
       "\n",
       "    .dataframe thead th {\n",
       "        text-align: right;\n",
       "    }\n",
       "</style>\n",
       "<table border=\"1\" class=\"dataframe\">\n",
       "  <thead>\n",
       "    <tr style=\"text-align: right;\">\n",
       "      <th></th>\n",
       "      <th>school_setting</th>\n",
       "      <th>school_type</th>\n",
       "      <th>teaching_method</th>\n",
       "      <th>n_student</th>\n",
       "      <th>gender</th>\n",
       "      <th>lunch</th>\n",
       "      <th>pretest</th>\n",
       "      <th>prediction</th>\n",
       "    </tr>\n",
       "  </thead>\n",
       "  <tbody>\n",
       "    <tr>\n",
       "      <th>0</th>\n",
       "      <td>0</td>\n",
       "      <td>1</td>\n",
       "      <td>1</td>\n",
       "      <td>20</td>\n",
       "      <td>1</td>\n",
       "      <td>1</td>\n",
       "      <td>48</td>\n",
       "      <td>53.313694</td>\n",
       "    </tr>\n",
       "    <tr>\n",
       "      <th>1</th>\n",
       "      <td>1</td>\n",
       "      <td>1</td>\n",
       "      <td>1</td>\n",
       "      <td>20</td>\n",
       "      <td>1</td>\n",
       "      <td>1</td>\n",
       "      <td>48</td>\n",
       "      <td>56.388798</td>\n",
       "    </tr>\n",
       "    <tr>\n",
       "      <th>2</th>\n",
       "      <td>0</td>\n",
       "      <td>2</td>\n",
       "      <td>1</td>\n",
       "      <td>20</td>\n",
       "      <td>1</td>\n",
       "      <td>1</td>\n",
       "      <td>48</td>\n",
       "      <td>53.313694</td>\n",
       "    </tr>\n",
       "  </tbody>\n",
       "</table>\n",
       "</div>"
      ],
      "text/plain": [
       "   school_setting  school_type  teaching_method  n_student  gender  lunch  \\\n",
       "0               0            1                1         20       1      1   \n",
       "1               1            1                1         20       1      1   \n",
       "2               0            2                1         20       1      1   \n",
       "\n",
       "   pretest  prediction  \n",
       "0       48   53.313694  \n",
       "1       48   56.388798  \n",
       "2       48   53.313694  "
      ]
     },
     "execution_count": 44,
     "metadata": {},
     "output_type": "execute_result"
    }
   ],
   "source": [
    "test_df"
   ]
  },
  {
   "cell_type": "code",
   "execution_count": null,
   "id": "fe8ae35a",
   "metadata": {},
   "outputs": [],
   "source": []
  }
 ],
 "metadata": {
  "kernelspec": {
   "display_name": "Python 3",
   "language": "python",
   "name": "python3"
  },
  "language_info": {
   "codemirror_mode": {
    "name": "ipython",
    "version": 3
   },
   "file_extension": ".py",
   "mimetype": "text/x-python",
   "name": "python",
   "nbconvert_exporter": "python",
   "pygments_lexer": "ipython3",
   "version": "3.7.10"
  }
 },
 "nbformat": 4,
 "nbformat_minor": 5
}
